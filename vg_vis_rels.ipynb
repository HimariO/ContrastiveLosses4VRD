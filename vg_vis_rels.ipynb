{
 "cells": [
  {
   "cell_type": "code",
   "execution_count": 1,
   "metadata": {},
   "outputs": [],
   "source": [
    "import os\n",
    "import matplotlib.pyplot as plt\n",
    "import matplotlib.image as mpimg\n",
    "import matplotlib.patches as patches\n",
    "import matplotlib.lines as lines\n",
    "import numpy as np\n",
    "from six.moves import cPickle as pickle\n",
    "import json\n",
    "from tqdm import tqdm"
   ]
  },
  {
   "cell_type": "code",
   "execution_count": 2,
   "metadata": {},
   "outputs": [],
   "source": [
    "# VG\n",
    "dir_path = 'Outputs/vg_X-101-64x4d-FPN/'\n",
    "# dir_path = 'Outputs/vg_X-101-64x4d-FPN/rel_detections_topk.pkl'"
   ]
  },
  {
   "cell_type": "code",
   "execution_count": 3,
   "metadata": {},
   "outputs": [],
   "source": [
    "topk_dets_file = os.path.join(dir_path, 'rel_detections_topk.pkl')\n",
    "with open(topk_dets_file, 'rb') as f:\n",
    "    topk_dets = pickle.load(f)"
   ]
  },
  {
   "cell_type": "code",
   "execution_count": 4,
   "metadata": {},
   "outputs": [
    {
     "output_type": "stream",
     "name": "stdout",
     "text": [
      "1\ndict_keys(['image', 'det_boxes_s_top', 'det_boxes_o_top', 'det_labels_s_top', 'det_labels_p_top', 'det_labels_o_top', 'det_scores_top'])\n(100, 4)\n(100,)\n100\n"
     ]
    }
   ],
   "source": [
    "print(len(topk_dets))\n",
    "print(topk_dets[0].keys())\n",
    "print(topk_dets[0]['det_boxes_o_top'].shape)\n",
    "print(topk_dets[0]['det_scores_top'].shape)\n",
    "min_len = 100\n",
    "for det in topk_dets:\n",
    "    if min_len > det['det_scores_top'].shape[0]:\n",
    "        min_len = det['det_scores_top'].shape[0]\n",
    "print(min_len)"
   ]
  },
  {
   "cell_type": "code",
   "execution_count": 5,
   "metadata": {},
   "outputs": [],
   "source": [
    "# VG\n",
    "# img_path = 'data/vg/VG_100K/'\n",
    "img_path = 'data/'\n",
    "with open('data/vg/objects.json') as f:\n",
    "    obj_cats = json.load(f)\n",
    "with open('data/vg/predicates.json') as f:\n",
    "    prd_cats = json.load(f)"
   ]
  },
  {
   "cell_type": "code",
   "execution_count": 6,
   "metadata": {},
   "outputs": [],
   "source": [
    "def box_overlap(box1, box2):\n",
    "    overlap = 0.0\n",
    "    box_area = (\n",
    "        (box2[2] - box2[0] + 1) *\n",
    "        (box2[3] - box2[1] + 1)\n",
    "    )\n",
    "    iw = (\n",
    "        min(box1[2], box2[2]) -\n",
    "        max(box1[0], box2[0]) + 1\n",
    "    )\n",
    "    if iw > 0:\n",
    "        ih = (\n",
    "            min(box1[3], box2[3]) -\n",
    "            max(box1[1], box2[1]) + 1\n",
    "        )\n",
    "        if ih > 0:\n",
    "            ua = float(\n",
    "                (box1[2] - box1[0] + 1) *\n",
    "                (box1[3] - box1[1] + 1) +\n",
    "                box_area - iw * ih\n",
    "            )\n",
    "            overlap = iw * ih / ua\n",
    "    return overlap\n",
    "\n",
    "# box1 and box2 are in [x1, y1. w. h] format\n",
    "def box_union(box1, box2):\n",
    "    xmin = min(box1[0], box2[0])\n",
    "    ymin = min(box1[1], box2[1])\n",
    "    xmax = max(box1[0] + box1[2] - 1, box2[0] + box2[2] - 1)\n",
    "    ymax = max(box1[1] + box1[3] - 1, box2[1] + box2[3] - 1)\n",
    "    return [xmin, ymin, xmax - xmin + 1, ymax - ymin + 1]\n",
    "\n",
    "def box2rect(img, box):\n",
    "    x = box[0] + edge_width / 2\n",
    "    y = box[1] + edge_width / 2\n",
    "    w = box[2] - box[0] - edge_width\n",
    "    h = box[3] - box[1] - edge_width\n",
    "    return x, y, w, h"
   ]
  },
  {
   "cell_type": "code",
   "execution_count": 7,
   "metadata": {},
   "outputs": [
    {
     "output_type": "stream",
     "name": "stdout",
     "text": [
      "ind:  0\nimage:  test_img.jpeg\ntopk:  50\nsbj_labels.shape[0]:  100\n"
     ]
    },
    {
     "output_type": "error",
     "ename": "FileNotFoundError",
     "evalue": "[Errno 2] No such file or directory: 'data/vg/VG_100K/test_img.jpeg'",
     "traceback": [
      "\u001b[0;31m---------------------------------------------------------------------------\u001b[0m",
      "\u001b[0;31mFileNotFoundError\u001b[0m                         Traceback (most recent call last)",
      "\u001b[0;32m<ipython-input-7-899bd4ee5846>\u001b[0m in \u001b[0;36m<module>\u001b[0;34m\u001b[0m\n\u001b[1;32m     22\u001b[0m \u001b[0mprint\u001b[0m\u001b[0;34m(\u001b[0m\u001b[0;34m'sbj_labels.shape[0]: '\u001b[0m\u001b[0;34m,\u001b[0m \u001b[0msbj_labels\u001b[0m\u001b[0;34m.\u001b[0m\u001b[0mshape\u001b[0m\u001b[0;34m[\u001b[0m\u001b[0;36m0\u001b[0m\u001b[0;34m]\u001b[0m\u001b[0;34m)\u001b[0m\u001b[0;34m\u001b[0m\u001b[0;34m\u001b[0m\u001b[0m\n\u001b[1;32m     23\u001b[0m \u001b[0;34m\u001b[0m\u001b[0m\n\u001b[0;32m---> 24\u001b[0;31m \u001b[0mimg\u001b[0m \u001b[0;34m=\u001b[0m \u001b[0mmpimg\u001b[0m\u001b[0;34m.\u001b[0m\u001b[0mimread\u001b[0m\u001b[0;34m(\u001b[0m\u001b[0mimg_path\u001b[0m \u001b[0;34m+\u001b[0m \u001b[0mimg_name\u001b[0m\u001b[0;34m)\u001b[0m\u001b[0;34m\u001b[0m\u001b[0;34m\u001b[0m\u001b[0m\n\u001b[0m\u001b[1;32m     25\u001b[0m \u001b[0;34m\u001b[0m\u001b[0m\n\u001b[1;32m     26\u001b[0m \u001b[0mfig\u001b[0m \u001b[0;34m=\u001b[0m \u001b[0mplt\u001b[0m\u001b[0;34m.\u001b[0m\u001b[0mfigure\u001b[0m\u001b[0;34m(\u001b[0m\u001b[0mfigsize\u001b[0m\u001b[0;34m=\u001b[0m\u001b[0;34m(\u001b[0m\u001b[0;36m18\u001b[0m\u001b[0;34m,\u001b[0m \u001b[0;36m12\u001b[0m\u001b[0;34m)\u001b[0m\u001b[0;34m)\u001b[0m\u001b[0;34m\u001b[0m\u001b[0;34m\u001b[0m\u001b[0m\n",
      "\u001b[0;32m~/miniconda3/envs/bottom-up/lib/python3.7/site-packages/matplotlib/image.py\u001b[0m in \u001b[0;36mimread\u001b[0;34m(fname, format)\u001b[0m\n\u001b[1;32m   1474\u001b[0m             \u001b[0;32mwith\u001b[0m \u001b[0murllib\u001b[0m\u001b[0;34m.\u001b[0m\u001b[0mrequest\u001b[0m\u001b[0;34m.\u001b[0m\u001b[0murlopen\u001b[0m\u001b[0;34m(\u001b[0m\u001b[0mfname\u001b[0m\u001b[0;34m)\u001b[0m \u001b[0;32mas\u001b[0m \u001b[0mresponse\u001b[0m\u001b[0;34m:\u001b[0m\u001b[0;34m\u001b[0m\u001b[0;34m\u001b[0m\u001b[0m\n\u001b[1;32m   1475\u001b[0m                 \u001b[0;32mreturn\u001b[0m \u001b[0mimread\u001b[0m\u001b[0;34m(\u001b[0m\u001b[0mresponse\u001b[0m\u001b[0;34m,\u001b[0m \u001b[0mformat\u001b[0m\u001b[0;34m=\u001b[0m\u001b[0mext\u001b[0m\u001b[0;34m)\u001b[0m\u001b[0;34m\u001b[0m\u001b[0;34m\u001b[0m\u001b[0m\n\u001b[0;32m-> 1476\u001b[0;31m     \u001b[0;32mwith\u001b[0m \u001b[0mimg_open\u001b[0m\u001b[0;34m(\u001b[0m\u001b[0mfname\u001b[0m\u001b[0;34m)\u001b[0m \u001b[0;32mas\u001b[0m \u001b[0mimage\u001b[0m\u001b[0;34m:\u001b[0m\u001b[0;34m\u001b[0m\u001b[0;34m\u001b[0m\u001b[0m\n\u001b[0m\u001b[1;32m   1477\u001b[0m         return (_pil_png_to_float_array(image)\n\u001b[1;32m   1478\u001b[0m                 \u001b[0;32mif\u001b[0m \u001b[0misinstance\u001b[0m\u001b[0;34m(\u001b[0m\u001b[0mimage\u001b[0m\u001b[0;34m,\u001b[0m \u001b[0mPIL\u001b[0m\u001b[0;34m.\u001b[0m\u001b[0mPngImagePlugin\u001b[0m\u001b[0;34m.\u001b[0m\u001b[0mPngImageFile\u001b[0m\u001b[0;34m)\u001b[0m \u001b[0;32melse\u001b[0m\u001b[0;34m\u001b[0m\u001b[0;34m\u001b[0m\u001b[0m\n",
      "\u001b[0;32m~/miniconda3/envs/bottom-up/lib/python3.7/site-packages/PIL/Image.py\u001b[0m in \u001b[0;36mopen\u001b[0;34m(fp, mode)\u001b[0m\n\u001b[1;32m   2876\u001b[0m \u001b[0;34m\u001b[0m\u001b[0m\n\u001b[1;32m   2877\u001b[0m     \u001b[0;32mif\u001b[0m \u001b[0mfilename\u001b[0m\u001b[0;34m:\u001b[0m\u001b[0;34m\u001b[0m\u001b[0;34m\u001b[0m\u001b[0m\n\u001b[0;32m-> 2878\u001b[0;31m         \u001b[0mfp\u001b[0m \u001b[0;34m=\u001b[0m \u001b[0mbuiltins\u001b[0m\u001b[0;34m.\u001b[0m\u001b[0mopen\u001b[0m\u001b[0;34m(\u001b[0m\u001b[0mfilename\u001b[0m\u001b[0;34m,\u001b[0m \u001b[0;34m\"rb\"\u001b[0m\u001b[0;34m)\u001b[0m\u001b[0;34m\u001b[0m\u001b[0;34m\u001b[0m\u001b[0m\n\u001b[0m\u001b[1;32m   2879\u001b[0m         \u001b[0mexclusive_fp\u001b[0m \u001b[0;34m=\u001b[0m \u001b[0;32mTrue\u001b[0m\u001b[0;34m\u001b[0m\u001b[0;34m\u001b[0m\u001b[0m\n\u001b[1;32m   2880\u001b[0m \u001b[0;34m\u001b[0m\u001b[0m\n",
      "\u001b[0;31mFileNotFoundError\u001b[0m: [Errno 2] No such file or directory: 'data/vg/VG_100K/test_img.jpeg'"
     ]
    }
   ],
   "source": [
    "edge_width = 3\n",
    "font_size = 18\n",
    "topk = 50  # 100\n",
    "score_thr = 0.0  # 0.05\n",
    "\n",
    "save_output = False\n",
    "\n",
    "ind = np.random.randint(0, len(topk_dets))\n",
    "print('ind: ', ind)\n",
    "det = topk_dets[ind]\n",
    "\n",
    "sbj_boxes = det['det_boxes_s_top']\n",
    "sbj_labels = det['det_labels_s_top']\n",
    "obj_boxes = det['det_boxes_o_top']\n",
    "obj_labels = det['det_labels_o_top']\n",
    "prd_labels = det['det_labels_p_top']\n",
    "det_scores = det['det_scores_top']\n",
    "\n",
    "img_name = det['image'].split('/')[-1]\n",
    "print('image: ', img_name)\n",
    "print('topk: ', topk)\n",
    "print('sbj_labels.shape[0]: ', sbj_labels.shape[0])\n",
    "\n",
    "img = mpimg.imread(img_path + img_name)\n",
    "\n",
    "fig = plt.figure(figsize=(18, 12))\n",
    "ax = plt.gca()\n",
    "plt.imshow(img)\n",
    "plt.axis('off')\n",
    "det_title = plt.title('det')\n",
    "plt.setp(det_title, color='b')\n",
    "for j in range(min(topk, sbj_labels.shape[0])):\n",
    "    # det\n",
    "    det_score = det_scores[j]\n",
    "    if det_score < score_thr:\n",
    "        continue\n",
    "    sbj_label = sbj_labels[j]\n",
    "    obj_label = obj_labels[j]\n",
    "    prd_label = prd_labels[j]\n",
    "    sbj_box = sbj_boxes[j]\n",
    "    obj_box = obj_boxes[j]\n",
    "    s_name = obj_cats[sbj_label]\n",
    "    o_name = obj_cats[obj_label]\n",
    "    p_name = prd_cats[prd_label]\n",
    "    \n",
    "    s_x, s_y, s_w, s_h = box2rect(img, sbj_box)\n",
    "    s_cx = s_x + s_w // 2\n",
    "    s_cy = s_y + s_h // 2\n",
    "    ax.text(s_cx, s_cy - 2,\n",
    "            s_name,\n",
    "            fontsize=font_size,\n",
    "            color='white',\n",
    "            bbox=dict(facecolor='orange', alpha=0.5, pad=0, edgecolor='none'))\n",
    "    \n",
    "    o_x, o_y, o_w, o_h = box2rect(img, obj_box)\n",
    "    o_cx = o_x + o_w // 2\n",
    "    o_cy = o_y + o_h // 2\n",
    "    ax.text(o_cx, o_cy - 2,\n",
    "            o_name,\n",
    "            fontsize=font_size,\n",
    "            color='white',\n",
    "            bbox=dict(facecolor='blue', alpha=0.5, pad=0, edgecolor='none'))\n",
    "    \n",
    "    rel_l = lines.Line2D([s_cx, o_cx], [s_cy, o_cy], color='purple', linewidth=edge_width)\n",
    "    ax.add_line(rel_l)\n",
    "    ax.text((s_cx + o_cx) / 2, (s_cy + o_cy) / 2,\n",
    "            p_name,\n",
    "            fontsize=font_size,\n",
    "            color='white',\n",
    "            bbox=dict(facecolor='purple', alpha=0.5, pad=0, edgecolor='none'))\n",
    "\n",
    "if save_output:\n",
    "    output_dir = os.path.join(dir_path, img_id)\n",
    "    if not os.path.exists(output_dir):\n",
    "        os.makedirs(output_dir)\n",
    "    plt.savefig(os.path.join(output_dir, 'all_true_pos.jpg'), bbox_inches='tight')\n",
    "plt.show()\n",
    "plt.close(fig)\n",
    "\n",
    "# print names and scores\n",
    "for j in range(min(topk, sbj_labels.shape[0])):\n",
    "    # det\n",
    "    det_score = det_scores[j]\n",
    "    if det_score < score_thr:\n",
    "        continue\n",
    "    sbj_label = sbj_labels[j]\n",
    "    obj_label = obj_labels[j]\n",
    "    prd_label = prd_labels[j]\n",
    "    s_name = obj_cats[sbj_label]\n",
    "    o_name = obj_cats[obj_label]\n",
    "    p_name = prd_cats[prd_label]\n",
    "    print('{}: {} {} {}'.format(j, s_name, p_name, o_name))\n",
    "    print('\\t\\ttotal score:\\t {:.6f}'.format(det_score))"
   ]
  },
  {
   "cell_type": "code",
   "execution_count": null,
   "metadata": {},
   "outputs": [],
   "source": []
  }
 ],
 "metadata": {
  "kernelspec": {
   "display_name": "Python 3",
   "language": "python",
   "name": "python3"
  },
  "language_info": {
   "codemirror_mode": {
    "name": "ipython",
    "version": 3
   },
   "file_extension": ".py",
   "mimetype": "text/x-python",
   "name": "python",
   "nbconvert_exporter": "python",
   "pygments_lexer": "ipython3",
   "version": "3.7.7-final"
  }
 },
 "nbformat": 4,
 "nbformat_minor": 2
}